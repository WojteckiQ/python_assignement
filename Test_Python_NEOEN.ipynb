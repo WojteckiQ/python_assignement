{
  "cells": [
    {
      "cell_type": "markdown",
      "metadata": {
        "id": "view-in-github",
        "colab_type": "text"
      },
      "source": [
        "<a href=\"https://colab.research.google.com/github/WojteckiQ/python_assignement/blob/main/Test_Python_NEOEN.ipynb\" target=\"_parent\"><img src=\"https://colab.research.google.com/assets/colab-badge.svg\" alt=\"Open In Colab\"/></a>"
      ]
    },
    {
      "cell_type": "code",
      "execution_count": null,
      "metadata": {
        "id": "_8I1Eq9TM7Eh"
      },
      "outputs": [],
      "source": [
        "#%pip install ortools\n",
        "#%pip install pysftp"
      ]
    },
    {
      "cell_type": "code",
      "execution_count": null,
      "metadata": {
        "colab": {
          "base_uri": "https://localhost:8080/"
        },
        "id": "pzJ8MpwkhL4A",
        "outputId": "23abf278-b878-4b07-e876-50ac5cee5617"
      },
      "outputs": [
        {
          "output_type": "stream",
          "name": "stdout",
          "text": [
            "Current directory :  /content\n"
          ]
        }
      ],
      "source": [
        "import numpy as np\n",
        "import pandas as pd\n",
        "import matplotlib.pyplot as plt\n",
        "import requests, json\n",
        "#import pysftp\n",
        "import seaborn as sns\n",
        "from io import BytesIO\n",
        "from datetime import datetime, timedelta\n",
        "#from ortools.linear_solver import pywraplp\n",
        "from bs4 import BeautifulSoup\n",
        "import warnings\n",
        "from google.colab import userdata\n",
        "import time\n",
        "import polars as pl\n",
        "from datetime import datetime, timedelta, timezone\n",
        "import os\n",
        "print(\"Current directory : \",os.getcwd())"
      ]
    },
    {
      "cell_type": "markdown",
      "metadata": {
        "id": "276mjbedd-iS"
      },
      "source": [
        "# Exercise Analyst : BE Intraday\n",
        "With the parquet file \"idm_trades.pq\" that gathers all IDC transactions from Belgium, compute the VWAP (1H) of all hourly product from Intraday Continuous Trades from 2022-01-01 to 2022-06-01. Please, remove self-trade of datasets before computing the ID.\n",
        "\n",
        "We assume that the product is illiquid 1h before its delivery. Then computation is done from H-2 to H-1.\n",
        "\n",
        "ENTSOE Mapcode :\n",
        "\"10YBE----------2\" = Belgium\n",
        "\n",
        "Example :\n",
        "- Trades\n",
        "\n",
        "| Volume | Price     | Delivery | Execution | Product | Self-Trade | BE  |\n",
        "| ------ | --------- | -------- | --------- | ------- | ---------- | --- |\n",
        "| 1 MW   | 100 €/MWh | 17:00    | 15:43     | Hourly  | No         | Yes |\n",
        "| 2 MW   | 50 €/MWh  | 17:00    | 15:57     | Hourly  | No         | Yes |\n",
        "\n",
        "Computed on trades from 15h00 to 16h00 :\n",
        "- VWAP (1h) - 17h = 66 €/MWh\n"
      ]
    },
    {
      "cell_type": "code",
      "execution_count": null,
      "metadata": {
        "colab": {
          "base_uri": "https://localhost:8080/",
          "height": 828
        },
        "id": "i57NsdxCkD-5",
        "outputId": "76313ae5-d739-4cc3-96b1-e78ee81ace6b"
      },
      "outputs": [
        {
          "data": {
            "text/html": [
              "<div><style>\n",
              ".dataframe > thead > tr,\n",
              ".dataframe > tbody > tr {\n",
              "  text-align: right;\n",
              "  white-space: pre-wrap;\n",
              "}\n",
              "</style>\n",
              "<small>shape: (4_620_890, 10)</small><table border=\"1\" class=\"dataframe\"><thead><tr><th>contract__dlvry_start</th><th>contract__dlvry_end</th><th>qty_mwh</th><th>price_eurpmwh</th><th>buy_dlvry_area_id</th><th>sell_dlvry_area_id</th><th>self_trade</th><th>trade_id</th><th>contract_id</th><th>trade_time</th></tr><tr><td>datetime[ns, UTC]</td><td>datetime[ns, UTC]</td><td>f64</td><td>f64</td><td>str</td><td>str</td><td>str</td><td>i64</td><td>i64</td><td>datetime[ns, UTC]</td></tr></thead><tbody><tr><td>2021-12-28 02:00:00 UTC</td><td>2021-12-28 03:00:00 UTC</td><td>32.0</td><td>35.249388</td><td>&quot;10YDE-RWENET---I&quot;</td><td>&quot;10YBE----------2&quot;</td><td>&quot;false&quot;</td><td>1233553276</td><td>12625808</td><td>2021-12-27 21:34:33.195 UTC</td></tr><tr><td>2022-04-27 21:00:00 UTC</td><td>2022-04-27 22:00:00 UTC</td><td>11.0</td><td>196.633022</td><td>&quot;10YBE----------2&quot;</td><td>&quot;10YBE----------2&quot;</td><td>&quot;false&quot;</td><td>1270824945</td><td>12821963</td><td>2022-04-27 19:43:36.574 UTC</td></tr><tr><td>2022-07-06 02:00:00 UTC</td><td>2022-07-06 03:00:00 UTC</td><td>20.0</td><td>293.077265</td><td>&quot;10YNL----------L&quot;</td><td>&quot;10YBE----------2&quot;</td><td>&quot;false&quot;</td><td>1294169446</td><td>12934635</td><td>2022-07-06 00:31:57.448 UTC</td></tr><tr><td>2022-07-23 00:00:00 UTC</td><td>2022-07-23 01:00:00 UTC</td><td>1.0</td><td>363.895766</td><td>&quot;10YBE----------2&quot;</td><td>&quot;10YBE----------2&quot;</td><td>&quot;false&quot;</td><td>1300094683</td><td>12962484</td><td>2022-07-22 22:45:05.001 UTC</td></tr><tr><td>2022-12-11 11:00:00 UTC</td><td>2022-12-11 12:00:00 UTC</td><td>15.0</td><td>397.922901</td><td>&quot;10YBE----------2&quot;</td><td>&quot;10YDE-RWENET---I&quot;</td><td>&quot;false&quot;</td><td>1354087138</td><td>13142271</td><td>2022-12-11 09:54:01.330 UTC</td></tr><tr><td>&hellip;</td><td>&hellip;</td><td>&hellip;</td><td>&hellip;</td><td>&hellip;</td><td>&hellip;</td><td>&hellip;</td><td>&hellip;</td><td>&hellip;</td><td>&hellip;</td></tr><tr><td>2022-11-22 21:00:00 UTC</td><td>2022-11-22 22:00:00 UTC</td><td>1.0</td><td>162.338669</td><td>&quot;10YNL----------L&quot;</td><td>&quot;10YBE----------2&quot;</td><td>&quot;false&quot;</td><td>1346185880</td><td>13123910</td><td>2022-11-22 16:45:49.142 UTC</td></tr><tr><td>2022-12-24 09:00:00 UTC</td><td>2022-12-24 10:00:00 UTC</td><td>6.0</td><td>165.211431</td><td>&quot;10YDE-EON------1&quot;</td><td>&quot;10YBE----------2&quot;</td><td>&quot;false&quot;</td><td>1360191037</td><td>13155524</td><td>2022-12-24 05:14:26.250 UTC</td></tr><tr><td>2021-11-14 18:00:00 UTC</td><td>2021-11-14 19:00:00 UTC</td><td>32.0</td><td>217.968117</td><td>&quot;10YBE----------2&quot;</td><td>&quot;10YAT-APG------L&quot;</td><td>&quot;false&quot;</td><td>1221497582</td><td>12555810</td><td>2021-11-14 06:44:06.095 UTC</td></tr><tr><td>2022-09-27 18:00:00 UTC</td><td>2022-09-27 19:00:00 UTC</td><td>10.0</td><td>432.825238</td><td>&quot;10YBE----------2&quot;</td><td>&quot;10YFR-RTE------C&quot;</td><td>&quot;false&quot;</td><td>1324257349</td><td>13066856</td><td>2022-09-27 16:55:46.691 UTC</td></tr><tr><td>2022-11-22 23:00:00 UTC</td><td>2022-11-23 00:00:00 UTC</td><td>50.0</td><td>153.932676</td><td>&quot;10YDE-EON------1&quot;</td><td>&quot;10YBE----------2&quot;</td><td>&quot;false&quot;</td><td>1346271585</td><td>13123991</td><td>2022-11-22 21:53:41.066 UTC</td></tr></tbody></table></div>"
            ],
            "text/plain": [
              "shape: (4_620_890, 10)\n",
              "┌────────────┬───────────┬─────────┬───────────┬───┬───────────┬───────────┬───────────┬───────────┐\n",
              "│ contract__ ┆ contract_ ┆ qty_mwh ┆ price_eur ┆ … ┆ self_trad ┆ trade_id  ┆ contract_ ┆ trade_tim │\n",
              "│ dlvry_star ┆ _dlvry_en ┆ ---     ┆ pmwh      ┆   ┆ e         ┆ ---       ┆ id        ┆ e         │\n",
              "│ t          ┆ d         ┆ f64     ┆ ---       ┆   ┆ ---       ┆ i64       ┆ ---       ┆ ---       │\n",
              "│ ---        ┆ ---       ┆         ┆ f64       ┆   ┆ str       ┆           ┆ i64       ┆ datetime[ │\n",
              "│ datetime[n ┆ datetime[ ┆         ┆           ┆   ┆           ┆           ┆           ┆ ns, UTC]  │\n",
              "│ s, UTC]    ┆ ns, UTC]  ┆         ┆           ┆   ┆           ┆           ┆           ┆           │\n",
              "╞════════════╪═══════════╪═════════╪═══════════╪═══╪═══════════╪═══════════╪═══════════╪═══════════╡\n",
              "│ 2021-12-28 ┆ 2021-12-2 ┆ 32.0    ┆ 35.249388 ┆ … ┆ false     ┆ 123355327 ┆ 12625808  ┆ 2021-12-2 │\n",
              "│ 02:00:00   ┆ 8         ┆         ┆           ┆   ┆           ┆ 6         ┆           ┆ 7 21:34:3 │\n",
              "│ UTC        ┆ 03:00:00  ┆         ┆           ┆   ┆           ┆           ┆           ┆ 3.195 UTC │\n",
              "│            ┆ UTC       ┆         ┆           ┆   ┆           ┆           ┆           ┆           │\n",
              "│ 2022-04-27 ┆ 2022-04-2 ┆ 11.0    ┆ 196.63302 ┆ … ┆ false     ┆ 127082494 ┆ 12821963  ┆ 2022-04-2 │\n",
              "│ 21:00:00   ┆ 7         ┆         ┆ 2         ┆   ┆           ┆ 5         ┆           ┆ 7 19:43:3 │\n",
              "│ UTC        ┆ 22:00:00  ┆         ┆           ┆   ┆           ┆           ┆           ┆ 6.574 UTC │\n",
              "│            ┆ UTC       ┆         ┆           ┆   ┆           ┆           ┆           ┆           │\n",
              "│ 2022-07-06 ┆ 2022-07-0 ┆ 20.0    ┆ 293.07726 ┆ … ┆ false     ┆ 129416944 ┆ 12934635  ┆ 2022-07-0 │\n",
              "│ 02:00:00   ┆ 6         ┆         ┆ 5         ┆   ┆           ┆ 6         ┆           ┆ 6 00:31:5 │\n",
              "│ UTC        ┆ 03:00:00  ┆         ┆           ┆   ┆           ┆           ┆           ┆ 7.448 UTC │\n",
              "│            ┆ UTC       ┆         ┆           ┆   ┆           ┆           ┆           ┆           │\n",
              "│ 2022-07-23 ┆ 2022-07-2 ┆ 1.0     ┆ 363.89576 ┆ … ┆ false     ┆ 130009468 ┆ 12962484  ┆ 2022-07-2 │\n",
              "│ 00:00:00   ┆ 3         ┆         ┆ 6         ┆   ┆           ┆ 3         ┆           ┆ 2 22:45:0 │\n",
              "│ UTC        ┆ 01:00:00  ┆         ┆           ┆   ┆           ┆           ┆           ┆ 5.001 UTC │\n",
              "│            ┆ UTC       ┆         ┆           ┆   ┆           ┆           ┆           ┆           │\n",
              "│ 2022-12-11 ┆ 2022-12-1 ┆ 15.0    ┆ 397.92290 ┆ … ┆ false     ┆ 135408713 ┆ 13142271  ┆ 2022-12-1 │\n",
              "│ 11:00:00   ┆ 1         ┆         ┆ 1         ┆   ┆           ┆ 8         ┆           ┆ 1 09:54:0 │\n",
              "│ UTC        ┆ 12:00:00  ┆         ┆           ┆   ┆           ┆           ┆           ┆ 1.330 UTC │\n",
              "│            ┆ UTC       ┆         ┆           ┆   ┆           ┆           ┆           ┆           │\n",
              "│ …          ┆ …         ┆ …       ┆ …         ┆ … ┆ …         ┆ …         ┆ …         ┆ …         │\n",
              "│ 2022-11-22 ┆ 2022-11-2 ┆ 1.0     ┆ 162.33866 ┆ … ┆ false     ┆ 134618588 ┆ 13123910  ┆ 2022-11-2 │\n",
              "│ 21:00:00   ┆ 2         ┆         ┆ 9         ┆   ┆           ┆ 0         ┆           ┆ 2 16:45:4 │\n",
              "│ UTC        ┆ 22:00:00  ┆         ┆           ┆   ┆           ┆           ┆           ┆ 9.142 UTC │\n",
              "│            ┆ UTC       ┆         ┆           ┆   ┆           ┆           ┆           ┆           │\n",
              "│ 2022-12-24 ┆ 2022-12-2 ┆ 6.0     ┆ 165.21143 ┆ … ┆ false     ┆ 136019103 ┆ 13155524  ┆ 2022-12-2 │\n",
              "│ 09:00:00   ┆ 4         ┆         ┆ 1         ┆   ┆           ┆ 7         ┆           ┆ 4 05:14:2 │\n",
              "│ UTC        ┆ 10:00:00  ┆         ┆           ┆   ┆           ┆           ┆           ┆ 6.250 UTC │\n",
              "│            ┆ UTC       ┆         ┆           ┆   ┆           ┆           ┆           ┆           │\n",
              "│ 2021-11-14 ┆ 2021-11-1 ┆ 32.0    ┆ 217.96811 ┆ … ┆ false     ┆ 122149758 ┆ 12555810  ┆ 2021-11-1 │\n",
              "│ 18:00:00   ┆ 4         ┆         ┆ 7         ┆   ┆           ┆ 2         ┆           ┆ 4 06:44:0 │\n",
              "│ UTC        ┆ 19:00:00  ┆         ┆           ┆   ┆           ┆           ┆           ┆ 6.095 UTC │\n",
              "│            ┆ UTC       ┆         ┆           ┆   ┆           ┆           ┆           ┆           │\n",
              "│ 2022-09-27 ┆ 2022-09-2 ┆ 10.0    ┆ 432.82523 ┆ … ┆ false     ┆ 132425734 ┆ 13066856  ┆ 2022-09-2 │\n",
              "│ 18:00:00   ┆ 7         ┆         ┆ 8         ┆   ┆           ┆ 9         ┆           ┆ 7 16:55:4 │\n",
              "│ UTC        ┆ 19:00:00  ┆         ┆           ┆   ┆           ┆           ┆           ┆ 6.691 UTC │\n",
              "│            ┆ UTC       ┆         ┆           ┆   ┆           ┆           ┆           ┆           │\n",
              "│ 2022-11-22 ┆ 2022-11-2 ┆ 50.0    ┆ 153.93267 ┆ … ┆ false     ┆ 134627158 ┆ 13123991  ┆ 2022-11-2 │\n",
              "│ 23:00:00   ┆ 3         ┆         ┆ 6         ┆   ┆           ┆ 5         ┆           ┆ 2 21:53:4 │\n",
              "│ UTC        ┆ 00:00:00  ┆         ┆           ┆   ┆           ┆           ┆           ┆ 1.066 UTC │\n",
              "│            ┆ UTC       ┆         ┆           ┆   ┆           ┆           ┆           ┆           │\n",
              "└────────────┴───────────┴─────────┴───────────┴───┴───────────┴───────────┴───────────┴───────────┘"
            ]
          },
          "execution_count": 54,
          "metadata": {},
          "output_type": "execute_result"
        }
      ],
      "source": [
        "idc_trades = pl.read_parquet(\"idm_trades.pq\")\n",
        "idc_trades"
      ]
    },
    {
      "cell_type": "markdown",
      "metadata": {
        "id": "FLpEj8DGK3Gs"
      },
      "source": [
        "### Warm-up"
      ]
    },
    {
      "cell_type": "markdown",
      "metadata": {
        "id": "QO-A5gwOK_df"
      },
      "source": [
        "Write a program to sum all positive integers up to and including $n$. Then, summing for all odd integers\n",
        "\n",
        "Ecrire un programme qui réalise la somme des entiers positifs, jusqu'au nombre $n$ inclus.\n",
        "Puis de même, en sommant pour tous les entiers impairs"
      ]
    },
    {
      "cell_type": "code",
      "execution_count": null,
      "metadata": {
        "id": "rlVYxviZK2MQ"
      },
      "outputs": [],
      "source": [
        "def cum_sum_int(n):\n",
        "    return sum(np.arange(1,n+1))\n",
        "\n",
        "def cum_sum_int_odd(n):\n",
        "  return sum(np.arange(1,n+1)[::2])\n",
        "\n"
      ]
    },
    {
      "cell_type": "code",
      "execution_count": null,
      "metadata": {
        "id": "ll357MjSLV1e",
        "colab": {
          "base_uri": "https://localhost:8080/"
        },
        "outputId": "8cc5d750-c88f-49a3-f9f7-08b38bf2d2b9"
      },
      "outputs": [
        {
          "output_type": "stream",
          "name": "stdout",
          "text": [
            "5050\n",
            "2500\n"
          ]
        }
      ],
      "source": [
        "#Output expected\n",
        "print(cum_sum_int(100))\n",
        "# 5050\n",
        "\n",
        "print(cum_sum_int_odd(100))\n",
        "# 2500"
      ]
    },
    {
      "cell_type": "markdown",
      "metadata": {
        "id": "kTxnllnghZYg"
      },
      "source": [
        "### Exercice 1"
      ]
    },
    {
      "cell_type": "markdown",
      "metadata": {
        "id": "3JSxWkQphhi8"
      },
      "source": [
        "*Write* a function that inverts an integer (positive or negative), i.e. it takes as input an integer -6523, for example, and returns as output the inverted integer -3256.\n",
        "\n",
        "> Ajouter une citation\n",
        "\n",
        "\n",
        "\n",
        "Ecrire une fonction qui inverse un entier (positif ou négatif), c’est-à-dire qu'elle  prend en entrée un entier -6523 par exemple et retourne en sortie l’entier inversé -3256."
      ]
    },
    {
      "cell_type": "code",
      "execution_count": null,
      "metadata": {
        "id": "bwL_-biF1aJL"
      },
      "outputs": [],
      "source": [
        "# WRITE CODE HERE\n",
        "def reverse_int(number):\n",
        "    return np.sign(number)*int(str(abs(number))[::-1])"
      ]
    },
    {
      "cell_type": "code",
      "execution_count": null,
      "metadata": {
        "id": "yE4N4uls1f8X",
        "colab": {
          "base_uri": "https://localhost:8080/"
        },
        "outputId": "28909c1c-d49c-4e9d-c8d0-9532b3429c74"
      },
      "outputs": [
        {
          "output_type": "stream",
          "name": "stdout",
          "text": [
            "202\n",
            "-349\n",
            "-3256\n"
          ]
        }
      ],
      "source": [
        "print(reverse_int(2020))\n",
        "#Expected 202\n",
        "\n",
        "print(reverse_int(-9430))\n",
        "#Expected -349\n",
        "\n",
        "print(reverse_int(-6523))\n",
        "#Expected -3256"
      ]
    },
    {
      "cell_type": "markdown",
      "metadata": {
        "id": "PnQ2CbN6hxJM"
      },
      "source": [
        "### Exercise 2"
      ]
    },
    {
      "cell_type": "markdown",
      "metadata": {
        "id": "0wAWNUYviFR5"
      },
      "source": [
        "Recall that the Fibonacci sequence is given by $u_{n} = u_{n-1} + u_{n-2}$ with $u_0 = 1$ and $u_1 = 1$. Write a function that calculates the Fibonacci numbers between two integers $a \\leq b$. An intermediate function may help.\n",
        "\n",
        "On rappelle que la suite de Fibonacci est donnée par $u_{n} = u_{n-1} + u_{n-2}$ avec $u_0 = 1$ et $u_1 = 1$. Ecrire une fonction qui calcule les nombres de Fibonacci compris entre deux entiers $a \\leq b$. on pourra s'aider d'une fonction intermédiaire."
      ]
    },
    {
      "cell_type": "code",
      "source": [
        "## QW\n",
        "\n",
        "def fibonacci(number : int):\n",
        "  \"\"\"\n",
        "  Calculates the Fibonacci numbers between two integers a and b.\n",
        "  Parameters :\n",
        "  - a : first integer\n",
        "  Returns :\n",
        "  - result : result of fibonacci calculation\n",
        "  \"\"\"\n",
        "  assert number >= 0, \"a must be positive\"\n",
        "  if number <= 1:\n",
        "    result = 1\n",
        "  else:\n",
        "    result = fibonacci(number-1) + fibonacci(number-2)\n",
        "  return result\n",
        "\n",
        "  fibonacci(10)"
      ],
      "metadata": {
        "id": "_l6_d18WZBsr"
      },
      "execution_count": 10,
      "outputs": []
    },
    {
      "cell_type": "code",
      "execution_count": null,
      "metadata": {
        "id": "Q6veTM_i1iuX",
        "colab": {
          "base_uri": "https://localhost:8080/"
        },
        "outputId": "25198821-a08d-492d-acb3-893a86a6f719"
      },
      "outputs": [
        {
          "output_type": "stream",
          "name": "stdout",
          "text": [
            "[0, 1, 1, 2, 3, 5, 8]\n",
            "[0, 1, 1, 2, 3, 5, 8, 13, 21, 34]\n",
            "[13, 21, 34]\n"
          ]
        }
      ],
      "source": [
        "## BD\n",
        "\n",
        "## WRITE CODE HERE\n",
        "def fibo_sub(a,b):\n",
        "  assert a<= b\n",
        "  return fibo(b)[len(fibo(a)):]\n",
        "\n",
        "def fibo(a):\n",
        "  assert a>= 1\n",
        "  ll = [0,1]\n",
        "  while ll[-1] <= a:\n",
        "    ll += [ll[-2]+ll[-1]]\n",
        "  return ll[:-1]\n",
        "\n",
        "print(fibo(10))\n",
        "print(fibo(50))\n",
        "print(fibo_sub(10,50))"
      ]
    },
    {
      "cell_type": "markdown",
      "metadata": {
        "id": "_hdxHSBQir-j"
      },
      "source": [
        "### Exercice 3"
      ]
    },
    {
      "cell_type": "markdown",
      "metadata": {
        "id": "oFB0LN4WkxhI"
      },
      "source": [
        "This exercise brings together several basic questions relating to Python's pandas library.\n",
        "\n",
        "- Replace the two **diagonals** in the following DataFrame with 0s\n",
        "\n",
        "\n",
        "Cet exercice rassemble plusieurs questions basiques relatives à la bibliothèque pandas de Python.\n",
        "\n",
        "- Remplacer les deux **diagonales** du DataFrame suivant par des 0"
      ]
    },
    {
      "cell_type": "code",
      "execution_count": null,
      "metadata": {
        "id": "ykJBp-UtitD5"
      },
      "outputs": [],
      "source": [
        "#Input\n",
        "df = pd.DataFrame(np.random.randint(1,100, 100).reshape(10, -1))\n",
        "for ii in range(10):\n",
        "  df.iloc[ii,ii] = 0\n",
        "  df.iloc[ii,-(ii+1)] = 0\n"
      ]
    },
    {
      "cell_type": "code",
      "execution_count": null,
      "metadata": {
        "id": "tkKIWGy015Ab",
        "colab": {
          "base_uri": "https://localhost:8080/"
        },
        "outputId": "c122c7fa-3386-4e87-a60c-a0e01030d24f"
      },
      "outputs": [
        {
          "output_type": "stream",
          "name": "stdout",
          "text": [
            "    0   1   2   3   4   5   6   7   8   9\n",
            "0   0  93  13  64   8  69  20  97  28   0\n",
            "1  18   0  53  98  24  92  95  31   0  92\n",
            "2  51  56   0  32  70  58  67   0  31  18\n",
            "3  82  27  17   0  73  38   0  13  65  59\n",
            "4  50  85  72   3   0   0   3  91  81  46\n",
            "5  60  93  62  38   0   0  89  93  74  61\n",
            "6  13  38  43   0  13  43   0  40  93  52\n",
            "7  27  74   0  49  78  31  70   0   6   8\n",
            "8  90   0  62  29  89  85  60  75   0  34\n",
            "9   0   6  27  98  61  36  90  20  26   0\n"
          ]
        }
      ],
      "source": [
        "print(df)"
      ]
    },
    {
      "cell_type": "markdown",
      "metadata": {
        "id": "LHFfOesJlf-s"
      },
      "source": [
        "- Join the following two DataFrame per fruit 'fruit-pazham' and 'weight-kilo'.\n",
        "\n",
        "- Joindre les deux DataFrame suivants par fruits ‘fruit-pazham’ et ‘weight-kilo’."
      ]
    },
    {
      "cell_type": "code",
      "execution_count": null,
      "metadata": {
        "id": "ObIOM7xclXXi"
      },
      "outputs": [],
      "source": [
        "df1 = pd.DataFrame({'fruit': ['apple', 'banana', 'orange'] * 3,\n",
        "                    'weight': ['high', 'medium', 'low'] * 3,\n",
        "                    'price': np.random.randint(0, 15, 9)})\n",
        "\n",
        "df2 = pd.DataFrame({'pazham': ['apple', 'orange', 'pine'] * 2,\n",
        "                    'kilo': ['high', 'low'] * 3,\n",
        "                    'price': np.random.randint(0, 15, 6)})"
      ]
    },
    {
      "cell_type": "code",
      "execution_count": null,
      "metadata": {
        "id": "uUkBO6R-17OQ"
      },
      "outputs": [],
      "source": [
        "# WRITE CODE HERE\n",
        "dg = df1.merge(df2,how='outer',left_on=['fruit','weight'],right_on=['pazham','kilo'])\n",
        "\n"
      ]
    },
    {
      "cell_type": "markdown",
      "metadata": {
        "id": "rtQ8fejRmNUK"
      },
      "source": [
        "- Create two additional columns for this DataFrame: one similar to column 'a' shifted down one cell, and the other similar to column 'b' shifted up one cell.\n",
        "\n",
        "- Créer deux colonnes additionnelles à ce DataFrame: l'une doit etre similaire à la colonne 'a' décalée d'une cellule vers le bas, et l'autre similaire à la colonne 'b' décalée d'une cellule vers le haut."
      ]
    },
    {
      "cell_type": "code",
      "execution_count": null,
      "metadata": {
        "colab": {
          "base_uri": "https://localhost:8080/"
        },
        "id": "I20stmEFma58",
        "outputId": "4d9041bf-b1be-47db-8f47-a3836930df85"
      },
      "outputs": [
        {
          "output_type": "stream",
          "name": "stdout",
          "text": [
            "     fruit  weight  price_x  pazham  kilo  price_y  price_x_shift_1  \\\n",
            "0    apple    high      9.0   apple  high      6.0              NaN   \n",
            "1    apple    high      0.0   apple  high      6.0              9.0   \n",
            "2    apple    high     12.0   apple  high      6.0              0.0   \n",
            "3      NaN     NaN      NaN   apple   low      3.0             12.0   \n",
            "4   banana  medium      2.0     NaN   NaN      NaN              NaN   \n",
            "5   banana  medium     13.0     NaN   NaN      NaN              2.0   \n",
            "6   banana  medium     13.0     NaN   NaN      NaN             13.0   \n",
            "7      NaN     NaN      NaN  orange  high      2.0             13.0   \n",
            "8   orange     low      0.0  orange   low      6.0              NaN   \n",
            "9   orange     low      5.0  orange   low      6.0              0.0   \n",
            "10  orange     low      4.0  orange   low      6.0              5.0   \n",
            "11     NaN     NaN      NaN    pine  high     10.0              4.0   \n",
            "12     NaN     NaN      NaN    pine   low     13.0              NaN   \n",
            "\n",
            "    price_y_shift_m1  \n",
            "0                6.0  \n",
            "1                6.0  \n",
            "2                3.0  \n",
            "3                NaN  \n",
            "4                NaN  \n",
            "5                NaN  \n",
            "6                2.0  \n",
            "7                6.0  \n",
            "8                6.0  \n",
            "9                6.0  \n",
            "10              10.0  \n",
            "11              13.0  \n",
            "12               NaN  \n"
          ]
        }
      ],
      "source": [
        "dg['price_x_shift_1'] = dg['price_x'].shift(1)\n",
        "dg['price_y_shift_m1'] = dg['price_y'].shift(-1)\n",
        "print(dg)"
      ]
    },
    {
      "cell_type": "markdown",
      "metadata": {
        "id": "ar-OxhYHm0dV"
      },
      "source": [
        "- From the following DataFrame: swap column 'a' and column 'c', then sort the columns in descending alphabetical order (from column 'e' to column 'a') without using the column names.\n",
        "\n",
        "- A partir du DataFrame suivant: échanger la colonne 'a' et la colonne 'c' puis classer les colonnes par ordre alphabétique descendant (de la colonne 'e' à la colonne 'a') sans utiliser les noms des colonnes."
      ]
    },
    {
      "cell_type": "code",
      "execution_count": null,
      "metadata": {
        "id": "hhbpA9_6mhRy"
      },
      "outputs": [],
      "source": [
        "df = pd.DataFrame(np.arange(20).reshape(-1, 5), columns=list('abcde'))\n",
        "dg = df[['c','b','a','d','e']]\n",
        "dh =  dg.reindex(sorted(dg.columns)[::-1], axis=1)"
      ]
    },
    {
      "cell_type": "markdown",
      "metadata": {
        "id": "r9HmpwWbNioE"
      },
      "source": [
        "\n",
        "\n",
        "```\n",
        "# Ce texte est au format code\n",
        "```\n",
        "\n",
        "### Exercise Fingrid\n"
      ]
    },
    {
      "cell_type": "markdown",
      "metadata": {
        "id": "usy2K1whNmJo"
      },
      "source": [
        "With the following function, we'll retrieve data from the Fingrid website. In particular, it provides information on the evolution of the reserve market.\n",
        "\n",
        "Via la fonction suivante nous allons chercher des données sur le site de Fingrid. Ce dernier nous renseigne nottament sur l'évolution du marché de réserve."
      ]
    },
    {
      "cell_type": "code",
      "execution_count": null,
      "metadata": {
        "colab": {
          "base_uri": "https://localhost:8080/",
          "height": 461
        },
        "id": "QbtJ-H3JNlib",
        "outputId": "b55bba49-e8e7-438f-fd43-95b5f5496794"
      },
      "outputs": [
        {
          "output_type": "stream",
          "name": "stdout",
          "text": [
            "Response status code: 429\n",
            "{ \"statusCode\": 429, \"message\": \"Rate limit is exceeded. Try again in 1 seconds.\" }\n",
            "Retry after 1 s\n",
            "Response status code: 429\n",
            "{ \"statusCode\": 429, \"message\": \"Rate limit is exceeded. Try again in 1 seconds.\" }\n",
            "Retry after 1 s\n"
          ]
        },
        {
          "output_type": "execute_result",
          "data": {
            "text/plain": [
              "                      Start  Volume_Forecasted  Volume_Procured     Price\n",
              "0 2022-12-31 23:00:00+00:00           21.60000         28.19999  48.82999\n",
              "1 2022-12-31 22:00:00+00:00           28.80000         38.00000  48.82999\n",
              "2 2022-12-31 21:00:00+00:00           23.10000         28.30000  48.82000\n",
              "3 2022-12-31 20:00:00+00:00           18.10000         25.80000  48.82000\n",
              "4 2022-12-31 19:00:00+00:00           13.10000         12.69999  15.00000\n",
              "5 2022-12-31 18:00:00+00:00            8.09999          8.80000  11.98000\n",
              "6 2022-12-31 17:00:00+00:00            4.79999          5.50000  11.90000\n",
              "7 2022-12-31 16:00:00+00:00            3.39999          5.50000  11.90000\n",
              "8 2022-12-31 15:00:00+00:00            3.70000          5.50000  11.90000\n",
              "9 2022-12-31 14:00:00+00:00            5.50000          9.00000  11.98000"
            ],
            "text/html": [
              "\n",
              "  <div id=\"df-3392573f-a218-436c-a461-41c5b986c56a\" class=\"colab-df-container\">\n",
              "    <div>\n",
              "<style scoped>\n",
              "    .dataframe tbody tr th:only-of-type {\n",
              "        vertical-align: middle;\n",
              "    }\n",
              "\n",
              "    .dataframe tbody tr th {\n",
              "        vertical-align: top;\n",
              "    }\n",
              "\n",
              "    .dataframe thead th {\n",
              "        text-align: right;\n",
              "    }\n",
              "</style>\n",
              "<table border=\"1\" class=\"dataframe\">\n",
              "  <thead>\n",
              "    <tr style=\"text-align: right;\">\n",
              "      <th></th>\n",
              "      <th>Start</th>\n",
              "      <th>Volume_Forecasted</th>\n",
              "      <th>Volume_Procured</th>\n",
              "      <th>Price</th>\n",
              "    </tr>\n",
              "  </thead>\n",
              "  <tbody>\n",
              "    <tr>\n",
              "      <th>0</th>\n",
              "      <td>2022-12-31 23:00:00+00:00</td>\n",
              "      <td>21.60000</td>\n",
              "      <td>28.19999</td>\n",
              "      <td>48.82999</td>\n",
              "    </tr>\n",
              "    <tr>\n",
              "      <th>1</th>\n",
              "      <td>2022-12-31 22:00:00+00:00</td>\n",
              "      <td>28.80000</td>\n",
              "      <td>38.00000</td>\n",
              "      <td>48.82999</td>\n",
              "    </tr>\n",
              "    <tr>\n",
              "      <th>2</th>\n",
              "      <td>2022-12-31 21:00:00+00:00</td>\n",
              "      <td>23.10000</td>\n",
              "      <td>28.30000</td>\n",
              "      <td>48.82000</td>\n",
              "    </tr>\n",
              "    <tr>\n",
              "      <th>3</th>\n",
              "      <td>2022-12-31 20:00:00+00:00</td>\n",
              "      <td>18.10000</td>\n",
              "      <td>25.80000</td>\n",
              "      <td>48.82000</td>\n",
              "    </tr>\n",
              "    <tr>\n",
              "      <th>4</th>\n",
              "      <td>2022-12-31 19:00:00+00:00</td>\n",
              "      <td>13.10000</td>\n",
              "      <td>12.69999</td>\n",
              "      <td>15.00000</td>\n",
              "    </tr>\n",
              "    <tr>\n",
              "      <th>5</th>\n",
              "      <td>2022-12-31 18:00:00+00:00</td>\n",
              "      <td>8.09999</td>\n",
              "      <td>8.80000</td>\n",
              "      <td>11.98000</td>\n",
              "    </tr>\n",
              "    <tr>\n",
              "      <th>6</th>\n",
              "      <td>2022-12-31 17:00:00+00:00</td>\n",
              "      <td>4.79999</td>\n",
              "      <td>5.50000</td>\n",
              "      <td>11.90000</td>\n",
              "    </tr>\n",
              "    <tr>\n",
              "      <th>7</th>\n",
              "      <td>2022-12-31 16:00:00+00:00</td>\n",
              "      <td>3.39999</td>\n",
              "      <td>5.50000</td>\n",
              "      <td>11.90000</td>\n",
              "    </tr>\n",
              "    <tr>\n",
              "      <th>8</th>\n",
              "      <td>2022-12-31 15:00:00+00:00</td>\n",
              "      <td>3.70000</td>\n",
              "      <td>5.50000</td>\n",
              "      <td>11.90000</td>\n",
              "    </tr>\n",
              "    <tr>\n",
              "      <th>9</th>\n",
              "      <td>2022-12-31 14:00:00+00:00</td>\n",
              "      <td>5.50000</td>\n",
              "      <td>9.00000</td>\n",
              "      <td>11.98000</td>\n",
              "    </tr>\n",
              "  </tbody>\n",
              "</table>\n",
              "</div>\n",
              "    <div class=\"colab-df-buttons\">\n",
              "\n",
              "  <div class=\"colab-df-container\">\n",
              "    <button class=\"colab-df-convert\" onclick=\"convertToInteractive('df-3392573f-a218-436c-a461-41c5b986c56a')\"\n",
              "            title=\"Convert this dataframe to an interactive table.\"\n",
              "            style=\"display:none;\">\n",
              "\n",
              "  <svg xmlns=\"http://www.w3.org/2000/svg\" height=\"24px\" viewBox=\"0 -960 960 960\">\n",
              "    <path d=\"M120-120v-720h720v720H120Zm60-500h600v-160H180v160Zm220 220h160v-160H400v160Zm0 220h160v-160H400v160ZM180-400h160v-160H180v160Zm440 0h160v-160H620v160ZM180-180h160v-160H180v160Zm440 0h160v-160H620v160Z\"/>\n",
              "  </svg>\n",
              "    </button>\n",
              "\n",
              "  <style>\n",
              "    .colab-df-container {\n",
              "      display:flex;\n",
              "      gap: 12px;\n",
              "    }\n",
              "\n",
              "    .colab-df-convert {\n",
              "      background-color: #E8F0FE;\n",
              "      border: none;\n",
              "      border-radius: 50%;\n",
              "      cursor: pointer;\n",
              "      display: none;\n",
              "      fill: #1967D2;\n",
              "      height: 32px;\n",
              "      padding: 0 0 0 0;\n",
              "      width: 32px;\n",
              "    }\n",
              "\n",
              "    .colab-df-convert:hover {\n",
              "      background-color: #E2EBFA;\n",
              "      box-shadow: 0px 1px 2px rgba(60, 64, 67, 0.3), 0px 1px 3px 1px rgba(60, 64, 67, 0.15);\n",
              "      fill: #174EA6;\n",
              "    }\n",
              "\n",
              "    .colab-df-buttons div {\n",
              "      margin-bottom: 4px;\n",
              "    }\n",
              "\n",
              "    [theme=dark] .colab-df-convert {\n",
              "      background-color: #3B4455;\n",
              "      fill: #D2E3FC;\n",
              "    }\n",
              "\n",
              "    [theme=dark] .colab-df-convert:hover {\n",
              "      background-color: #434B5C;\n",
              "      box-shadow: 0px 1px 3px 1px rgba(0, 0, 0, 0.15);\n",
              "      filter: drop-shadow(0px 1px 2px rgba(0, 0, 0, 0.3));\n",
              "      fill: #FFFFFF;\n",
              "    }\n",
              "  </style>\n",
              "\n",
              "    <script>\n",
              "      const buttonEl =\n",
              "        document.querySelector('#df-3392573f-a218-436c-a461-41c5b986c56a button.colab-df-convert');\n",
              "      buttonEl.style.display =\n",
              "        google.colab.kernel.accessAllowed ? 'block' : 'none';\n",
              "\n",
              "      async function convertToInteractive(key) {\n",
              "        const element = document.querySelector('#df-3392573f-a218-436c-a461-41c5b986c56a');\n",
              "        const dataTable =\n",
              "          await google.colab.kernel.invokeFunction('convertToInteractive',\n",
              "                                                    [key], {});\n",
              "        if (!dataTable) return;\n",
              "\n",
              "        const docLinkHtml = 'Like what you see? Visit the ' +\n",
              "          '<a target=\"_blank\" href=https://colab.research.google.com/notebooks/data_table.ipynb>data table notebook</a>'\n",
              "          + ' to learn more about interactive tables.';\n",
              "        element.innerHTML = '';\n",
              "        dataTable['output_type'] = 'display_data';\n",
              "        await google.colab.output.renderOutput(dataTable, element);\n",
              "        const docLink = document.createElement('div');\n",
              "        docLink.innerHTML = docLinkHtml;\n",
              "        element.appendChild(docLink);\n",
              "      }\n",
              "    </script>\n",
              "  </div>\n",
              "\n",
              "\n",
              "<div id=\"df-98f413db-e9aa-48e0-b084-146d9d9e633d\">\n",
              "  <button class=\"colab-df-quickchart\" onclick=\"quickchart('df-98f413db-e9aa-48e0-b084-146d9d9e633d')\"\n",
              "            title=\"Suggest charts\"\n",
              "            style=\"display:none;\">\n",
              "\n",
              "<svg xmlns=\"http://www.w3.org/2000/svg\" height=\"24px\"viewBox=\"0 0 24 24\"\n",
              "     width=\"24px\">\n",
              "    <g>\n",
              "        <path d=\"M19 3H5c-1.1 0-2 .9-2 2v14c0 1.1.9 2 2 2h14c1.1 0 2-.9 2-2V5c0-1.1-.9-2-2-2zM9 17H7v-7h2v7zm4 0h-2V7h2v10zm4 0h-2v-4h2v4z\"/>\n",
              "    </g>\n",
              "</svg>\n",
              "  </button>\n",
              "\n",
              "<style>\n",
              "  .colab-df-quickchart {\n",
              "      --bg-color: #E8F0FE;\n",
              "      --fill-color: #1967D2;\n",
              "      --hover-bg-color: #E2EBFA;\n",
              "      --hover-fill-color: #174EA6;\n",
              "      --disabled-fill-color: #AAA;\n",
              "      --disabled-bg-color: #DDD;\n",
              "  }\n",
              "\n",
              "  [theme=dark] .colab-df-quickchart {\n",
              "      --bg-color: #3B4455;\n",
              "      --fill-color: #D2E3FC;\n",
              "      --hover-bg-color: #434B5C;\n",
              "      --hover-fill-color: #FFFFFF;\n",
              "      --disabled-bg-color: #3B4455;\n",
              "      --disabled-fill-color: #666;\n",
              "  }\n",
              "\n",
              "  .colab-df-quickchart {\n",
              "    background-color: var(--bg-color);\n",
              "    border: none;\n",
              "    border-radius: 50%;\n",
              "    cursor: pointer;\n",
              "    display: none;\n",
              "    fill: var(--fill-color);\n",
              "    height: 32px;\n",
              "    padding: 0;\n",
              "    width: 32px;\n",
              "  }\n",
              "\n",
              "  .colab-df-quickchart:hover {\n",
              "    background-color: var(--hover-bg-color);\n",
              "    box-shadow: 0 1px 2px rgba(60, 64, 67, 0.3), 0 1px 3px 1px rgba(60, 64, 67, 0.15);\n",
              "    fill: var(--button-hover-fill-color);\n",
              "  }\n",
              "\n",
              "  .colab-df-quickchart-complete:disabled,\n",
              "  .colab-df-quickchart-complete:disabled:hover {\n",
              "    background-color: var(--disabled-bg-color);\n",
              "    fill: var(--disabled-fill-color);\n",
              "    box-shadow: none;\n",
              "  }\n",
              "\n",
              "  .colab-df-spinner {\n",
              "    border: 2px solid var(--fill-color);\n",
              "    border-color: transparent;\n",
              "    border-bottom-color: var(--fill-color);\n",
              "    animation:\n",
              "      spin 1s steps(1) infinite;\n",
              "  }\n",
              "\n",
              "  @keyframes spin {\n",
              "    0% {\n",
              "      border-color: transparent;\n",
              "      border-bottom-color: var(--fill-color);\n",
              "      border-left-color: var(--fill-color);\n",
              "    }\n",
              "    20% {\n",
              "      border-color: transparent;\n",
              "      border-left-color: var(--fill-color);\n",
              "      border-top-color: var(--fill-color);\n",
              "    }\n",
              "    30% {\n",
              "      border-color: transparent;\n",
              "      border-left-color: var(--fill-color);\n",
              "      border-top-color: var(--fill-color);\n",
              "      border-right-color: var(--fill-color);\n",
              "    }\n",
              "    40% {\n",
              "      border-color: transparent;\n",
              "      border-right-color: var(--fill-color);\n",
              "      border-top-color: var(--fill-color);\n",
              "    }\n",
              "    60% {\n",
              "      border-color: transparent;\n",
              "      border-right-color: var(--fill-color);\n",
              "    }\n",
              "    80% {\n",
              "      border-color: transparent;\n",
              "      border-right-color: var(--fill-color);\n",
              "      border-bottom-color: var(--fill-color);\n",
              "    }\n",
              "    90% {\n",
              "      border-color: transparent;\n",
              "      border-bottom-color: var(--fill-color);\n",
              "    }\n",
              "  }\n",
              "</style>\n",
              "\n",
              "  <script>\n",
              "    async function quickchart(key) {\n",
              "      const quickchartButtonEl =\n",
              "        document.querySelector('#' + key + ' button');\n",
              "      quickchartButtonEl.disabled = true;  // To prevent multiple clicks.\n",
              "      quickchartButtonEl.classList.add('colab-df-spinner');\n",
              "      try {\n",
              "        const charts = await google.colab.kernel.invokeFunction(\n",
              "            'suggestCharts', [key], {});\n",
              "      } catch (error) {\n",
              "        console.error('Error during call to suggestCharts:', error);\n",
              "      }\n",
              "      quickchartButtonEl.classList.remove('colab-df-spinner');\n",
              "      quickchartButtonEl.classList.add('colab-df-quickchart-complete');\n",
              "    }\n",
              "    (() => {\n",
              "      let quickchartButtonEl =\n",
              "        document.querySelector('#df-98f413db-e9aa-48e0-b084-146d9d9e633d button');\n",
              "      quickchartButtonEl.style.display =\n",
              "        google.colab.kernel.accessAllowed ? 'block' : 'none';\n",
              "    })();\n",
              "  </script>\n",
              "</div>\n",
              "\n",
              "    </div>\n",
              "  </div>\n"
            ],
            "application/vnd.google.colaboratory.intrinsic+json": {
              "type": "dataframe",
              "variable_name": "df",
              "summary": "{\n  \"name\": \"df\",\n  \"rows\": 17496,\n  \"fields\": [\n    {\n      \"column\": \"Start\",\n      \"properties\": {\n        \"dtype\": \"date\",\n        \"min\": \"2021-01-01 00:00:00+00:00\",\n        \"max\": \"2022-12-31 23:00:00+00:00\",\n        \"num_unique_values\": 17496,\n        \"samples\": [\n          \"2022-09-10 10:00:00+00:00\",\n          \"2022-10-11 23:00:00+00:00\",\n          \"2022-12-21 16:00:00+00:00\"\n        ],\n        \"semantic_type\": \"\",\n        \"description\": \"\"\n      }\n    },\n    {\n      \"column\": \"Volume_Forecasted\",\n      \"properties\": {\n        \"dtype\": \"number\",\n        \"std\": 6.542627671812549,\n        \"min\": 0.0,\n        \"max\": 53.2,\n        \"num_unique_values\": 429,\n        \"samples\": [\n          36.79999,\n          12.19999,\n          13.9\n        ],\n        \"semantic_type\": \"\",\n        \"description\": \"\"\n      }\n    },\n    {\n      \"column\": \"Volume_Procured\",\n      \"properties\": {\n        \"dtype\": \"number\",\n        \"std\": 7.739841862337235,\n        \"min\": 0.0,\n        \"max\": 62.39999,\n        \"num_unique_values\": 423,\n        \"samples\": [\n          28.6,\n          13.69999,\n          29.3\n        ],\n        \"semantic_type\": \"\",\n        \"description\": \"\"\n      }\n    },\n    {\n      \"column\": \"Price\",\n      \"properties\": {\n        \"dtype\": \"number\",\n        \"std\": 15.098766913481809,\n        \"min\": 0.0,\n        \"max\": 99.98999,\n        \"num_unique_values\": 222,\n        \"samples\": [\n          45.89999,\n          49.78,\n          11.89\n        ],\n        \"semantic_type\": \"\",\n        \"description\": \"\"\n      }\n    }\n  ]\n}"
            }
          },
          "metadata": {},
          "execution_count": 23
        }
      ],
      "source": [
        "dic_id = {278 : 'Volume_Forecasted',\n",
        "          276 : 'Volume_Procured',\n",
        "          277 : 'Price'\n",
        "          }\n",
        "api_key_fingrid = userdata.get('api_key_fingrid')\n",
        "\n",
        "start = \"20210101\"\n",
        "end = \"20230101\"\n",
        "\n",
        "def build_data_from_fingrid(start, end, id_features):\n",
        "    \"\"\"\n",
        "    Fetches data from the Fingrid API for the given time range and features.\n",
        "\n",
        "    Args:\n",
        "        start (datetime): The start date and time.\n",
        "        end (datetime): The end date and time.\n",
        "        id_features (list): List of feature IDs to fetch data for.\n",
        "\n",
        "    Returns:\n",
        "        pandas.DataFrame: A DataFrame containing the fetched data.\n",
        "    \"\"\"\n",
        "    if isinstance(start, str):\n",
        "        start = pd.to_datetime(start)\n",
        "    if isinstance(end, str):\n",
        "        end = pd.to_datetime(end)\n",
        "\n",
        "    # Format start and end dates\n",
        "    dt_str1 = start.strftime('%Y-%m-%d') + 'T00:00:00Z'\n",
        "    dt_str2 = end.strftime('%Y-%m-%d') + 'T00:00:00Z'\n",
        "\n",
        "    # List to store fetched DataFrames\n",
        "    list_dataf = []\n",
        "\n",
        "    # Loop through each feature ID\n",
        "    for k in id_features:\n",
        "\n",
        "        # Construct API request URL\n",
        "        stk = str(k)\n",
        "        url = 'https://data.fingrid.fi/api/datasets/' + stk + '/data'\n",
        "\n",
        "        # Set request headers and parameters\n",
        "        headers = {'x-api-key': api_key_fingrid}  # 'Retry-After':'10'\n",
        "        params = {'startTime': dt_str1, 'endTime': dt_str2, 'pageSize': 20000}  #'pageSize': 150\n",
        "\n",
        "        # Send API request\n",
        "        response = fetch_data_with_retry(url, headers=headers, params=params)\n",
        "\n",
        "        # Get data from first page and total pages\n",
        "        data = response[\"data\"]\n",
        "        total_pages = response['pagination']['lastPage']\n",
        "\n",
        "        # Loop through remaining pages\n",
        "        for page in range(2, total_pages + 1):\n",
        "            next_url = f\"{url}?page={page}\"\n",
        "            response = fetch_data_with_retry(next_url, headers=headers, params=params)\n",
        "            data += response[\"data\"]\n",
        "\n",
        "        # Create DataFrame from fetched data\n",
        "        fg_df = pd.DataFrame(data, index=range(len(data)))\n",
        "        fg_df.rename(columns={'value': dic_id[k], 'startTime': 'Start', 'endTime': 'End'}, inplace=True)\n",
        "        fg_df.drop(['datasetId'], axis=1, inplace=True)\n",
        "        list_dataf.append(fg_df)\n",
        "\n",
        "    # Check if any data was fetched\n",
        "    assert len(data) != 0, f\"No data available from {start} to {end}\"\n",
        "\n",
        "    # Combine DataFrames into a single DataFrame\n",
        "    data = list_dataf[0]\n",
        "    for df in list_dataf[1:]:\n",
        "        data = data.set_index('Start').join(df.drop(['End'], axis=1).set_index('Start'), how='inner').reset_index()\n",
        "\n",
        "    # Convert 'Start' column to datetime and drop 'End' column\n",
        "    data['Start'] = pd.to_datetime(data['Start'])\n",
        "    data.drop(['End'], axis=1, inplace=True)\n",
        "\n",
        "    # Filter data to include only records before the start date\n",
        "    data = data[data.Start.dt.tz_localize(None) < end]\n",
        "\n",
        "    return data\n",
        "\n",
        "def fetch_data_with_retry(url, headers=None, params=None):\n",
        "    \"\"\"\n",
        "    Fetch data from the specified URL with retry logic.\n",
        "\n",
        "    Args:\n",
        "        url (str): The URL to fetch data from.\n",
        "        headers (dict, optional): Headers to include in the request. Default is None.\n",
        "        params (dict, optional): Parameters to include in the request. Default is None.\n",
        "\n",
        "    Returns:\n",
        "        dict: The JSON response data.\n",
        "\n",
        "    Raises:\n",
        "        Exception: If the response status code is not 200 or 429.\n",
        "    \"\"\"\n",
        "    # Make the initial request\n",
        "    response = requests.get(url, headers=headers, params=params)\n",
        "\n",
        "    # Check if response status code is not 200\n",
        "    if response.status_code != 200:\n",
        "        print(f\"Response status code: {response.status_code}\")\n",
        "        print(response.text)\n",
        "\n",
        "        # Check if the server responds with a 429 status code (Too Many Requests)\n",
        "        if response.status_code == 429:\n",
        "            # Get the value of the Retry-After header, which indicates how long to wait before retrying\n",
        "            retry_after = response.headers.get('Retry-After')\n",
        "\n",
        "            # If the Retry-After header is present and contains a valid value\n",
        "            if retry_after:\n",
        "                # Convert the value to an integer (number of seconds)\n",
        "                retry_after_seconds = int(retry_after)  # s    #int(retry_after)\n",
        "                print(f'Retry after {retry_after_seconds} s')\n",
        "\n",
        "                # Wait for the specified duration before making another request\n",
        "                time.sleep(retry_after_seconds)\n",
        "\n",
        "                # Retry the request\n",
        "                response = requests.get(url, headers=headers, params=params)\n",
        "\n",
        "        else:\n",
        "            # Raise an exception for non-200 or 429 status codes\n",
        "            raise Exception(f\"Unexpected status code: {response.status_code}\")\n",
        "\n",
        "    # Return the JSON response data\n",
        "    return response.json()\n",
        "\n",
        "df = build_data_from_fingrid(start, end, [278 ,276, 277] )\n",
        "\n",
        "df.head(10)\n"
      ]
    },
    {
      "cell_type": "markdown",
      "metadata": {
        "id": "854YA9DUTlxu"
      },
      "source": [
        "*Q1*: The \"df\" Dataframe provides the time series of volumes actually purchased by Fingrid each hour, as well as the forecast of these volumes, published on D-1 . Considering this Dataframe, analyze the forecast's performance.\n",
        "\n",
        "*Q2*: Look at the price data. Could we use volume forecasted to forecast prices as well ?\n",
        "\n",
        "*Q1* : Le Dataframe \"df\" renseigne les séries temporelles de volumes effectivement achetés par Fingrid sur chaque heure, ainsi que le forecast de ces volumes, publié en J-1 . En considérant ce Dataframe, analyser les performances du forecast.\n",
        "\n",
        "*Q2*: Avec les données de prix, peut-on construire un forecast pour les prix également avec les données de prévisions de Fingrid ?"
      ]
    },
    {
      "cell_type": "markdown",
      "metadata": {
        "id": "KXRECFKD7_wl"
      },
      "source": []
    },
    {
      "cell_type": "code",
      "source": [
        "print(\"\"\"\n",
        "nb_hours: {nb_hours}\n",
        "Average error: {avg_error:.2}\n",
        "MAPE : {mape:2}\n",
        "MAE : {mae:2}\n",
        "\"\"\".format(nb_hours = df.shape[0],\n",
        "           avg_error = (df['Volume_Forecasted'] - df['Volume_Procured']).mean(),\n",
        "           mape = ((df['Volume_Forecasted'] - df['Volume_Procured']).abs()/df['Volume_Procured']).mean(),\n",
        "           mae = ((df['Volume_Forecasted'] - df['Volume_Procured']).abs()).mean(),\n",
        "           )\n",
        ")\n",
        "\n",
        "plt.plot(df[['Volume_Forecasted','Volume_Procured']], alpha = 0.5)\n",
        "\n",
        "dg = df.loc[df['Volume_Forecasted'] > df['Volume_Procured']]\n",
        "print((dg['Volume_Forecasted'] - dg['Volume_Procured']).mean())\n",
        "\n",
        "\n",
        "dh = df.loc[df['Volume_Forecasted'] != 0]\n",
        "print(\"\"\"\n",
        "nb_hours: {nb_hours}\n",
        "Average error: {avg_error:.2}\n",
        "MAPE : {mape:2}\n",
        "MAE : {mae:2}\n",
        "\"\"\".format(nb_hours = dh.shape[0],\n",
        "           avg_error = (dh['Volume_Forecasted'] - dh['Volume_Procured']).mean(),\n",
        "           mape = ((dh['Volume_Forecasted'] - dh['Volume_Procured']).abs()/dh['Volume_Procured']).mean(),\n",
        "           mae = ((dh['Volume_Forecasted'] - dh['Volume_Procured']).abs()).mean(),\n",
        "           )\n",
        ")\n",
        "plt.legend()"
      ],
      "metadata": {
        "colab": {
          "base_uri": "https://localhost:8080/",
          "height": 722
        },
        "id": "Ds-wegoeM9Do",
        "outputId": "04337fa4-9b3e-410a-9bc2-bc80910e68a4"
      },
      "execution_count": null,
      "outputs": [
        {
          "output_type": "stream",
          "name": "stdout",
          "text": [
            "\n",
            "nb_hours: 17496\n",
            "Average error: -0.57\n",
            "MAPE : inf\n",
            "MAE : 0.7471707996113397\n",
            "\n",
            "12.399192096774193\n",
            "\n",
            "nb_hours: 2946\n",
            "Average error: -3.3\n",
            "MAPE : inf\n",
            "MAE : 4.385845322471147\n",
            "\n"
          ]
        },
        {
          "output_type": "stream",
          "name": "stderr",
          "text": [
            "<ipython-input-41-286de8b4057d>:31: UserWarning: No artists with labels found to put in legend.  Note that artists whose label start with an underscore are ignored when legend() is called with no argument.\n",
            "  plt.legend()\n"
          ]
        },
        {
          "output_type": "execute_result",
          "data": {
            "text/plain": [
              "<matplotlib.legend.Legend at 0x7ac527ae78d0>"
            ]
          },
          "metadata": {},
          "execution_count": 41
        },
        {
          "output_type": "display_data",
          "data": {
            "text/plain": [
              "<Figure size 640x480 with 1 Axes>"
            ],
            "image/png": "[encoded data removed]"
          },
          "metadata": {}
        }
      ]
    },
    {
      "cell_type": "code",
      "source": [
        "plt.scatter(df['Volume_Forecasted'],df['Price'])"
      ],
      "metadata": {
        "colab": {
          "base_uri": "https://localhost:8080/",
          "height": 447
        },
        "id": "OsTRrtmfRbn4",
        "outputId": "51919d79-fee2-48f9-8adf-45412fe36892"
      },
      "execution_count": null,
      "outputs": [
        {
          "output_type": "execute_result",
          "data": {
            "text/plain": [
              "<matplotlib.collections.PathCollection at 0x7ac52763a210>"
            ]
          },
          "metadata": {},
          "execution_count": 43
        },
        {
          "output_type": "display_data",
          "data": {
            "text/plain": [
              "<Figure size 640x480 with 1 Axes>"
            ],
            "image/png": "[encoded data removed]"
          },
          "metadata": {}
        }
      ]
    },
    {
      "cell_type": "markdown",
      "metadata": {
        "id": "d9jHElUgxIjj"
      },
      "source": [
        "### Exercise 5"
      ]
    },
    {
      "cell_type": "code",
      "execution_count": null,
      "metadata": {
        "id": "kA9-8HYexLM7"
      },
      "outputs": [],
      "source": [
        "password_entsoe = userdata.get('password_entsoe')\n",
        "\n",
        "def collect_data_from_entsoe_stfp(file, date, date_end):\n",
        "    \"\"\"\n",
        "    Generic function to download a csv from entsoe sftp\n",
        "    \"\"\"\n",
        "    cnopts = pysftp.CnOpts()\n",
        "    cnopts.hostkeys = None\n",
        "\n",
        "    df = pd.DataFrame()\n",
        "    result = pd.DataFrame()\n",
        "\n",
        "    if isinstance(date, str):\n",
        "        date = pd.to_datetime(date)\n",
        "    if isinstance(date_end, str):\n",
        "        date_end = pd.to_datetime(date_end)\n",
        "\n",
        "    with pysftp.Connection('sftp-transparency.entsoe.eu',\n",
        "                             username='market_operations@neoen.com',\n",
        "                             password=password_entsoe,#'9B!6rhqFbC!iJnR?',\n",
        "                             cnopts = cnopts) as sftp:\n",
        "\n",
        "        nb_month = date_end.month - date.month + (date_end.year - date.year) * 12\n",
        "        if date.month == date_end.month and date.year == date_end.year:\n",
        "            flo = BytesIO()\n",
        "            sftp.getfo(\"/TP_export/\"+file+\"/\"+str(date.year)+\"_\"+\\\n",
        "                        str(date.month//10)+str(date.month%10)+\"_\"+file+\".csv\", flo)\n",
        "            flo.seek(0)\n",
        "            df = pd.read_csv(flo, sep = \"\\t\", index_col = 0, parse_dates = True).sort_index()\n",
        "            df = df[(df.index > datetime.strftime(date, format = \"%Y-%m-%d %H:%M\")) & \\\n",
        "                    (df.index < datetime.strftime(date_end, format = \"%Y-%m-%d %H:%M\")) ]\n",
        "            result = result.append(df)\n",
        "        else:\n",
        "            for m in range(nb_month + 1):\n",
        "                # year = date.year + (date.month + m) // 12\n",
        "                # month = (date.month + m) % 12 + 1\n",
        "                # if month > date_end.month and year == date_end.year:\n",
        "                #     month = date_end.month\n",
        "\n",
        "                month_file = (date.month + m)\n",
        "                if month_file % 12 > 0 :\n",
        "                    month = month_file % 12\n",
        "                    year = date.year + month_file // 12\n",
        "                elif month_file % 12 == 0:\n",
        "                    year = date.year + (month_file-1) // 12\n",
        "                    month = 12\n",
        "\n",
        "                print(year, \" _ \", month)\n",
        "                if month < 10:\n",
        "                    month = '0'+str(month)\n",
        "                else :\n",
        "                    month = str(month)\n",
        "                flo = BytesIO()\n",
        "                try :\n",
        "                    sftp.getfo(\"/TP_export/\"+file+\"/\"+str(year)+\"_\"+\\\n",
        "                                str(month)+\"_\"+file+\".csv\", flo)\n",
        "                except:\n",
        "                    print(\"No file for /TP_export/\"+file+\"/\"+str(year)+\"_\"+\\\n",
        "                                str(month)+\"_\"+file+\".csv\")\n",
        "                    continue\n",
        "                flo.seek(0)\n",
        "                df = pd.read_csv(flo,sep = \"\\t\", index_col = 0, parse_dates = True).sort_index()\n",
        "                #Conversion to UTC timezone\n",
        "                df.index = df.index#.tz_localize(\"CET\").tz_convert(\"UTC\")\n",
        "                result = pd.concat([result,df])\n",
        "\n",
        "    return result"
      ]
    },
    {
      "cell_type": "code",
      "execution_count": null,
      "metadata": {
        "id": "HmKLyP0B6_d5"
      },
      "outputs": [],
      "source": [
        "art = \"20230101\"\n",
        "end = \"20230601\"\n",
        "spot = collect_data_from_entsoe_stfp(\"DayAheadPrices_12.1.D\",\n",
        "                                        start, end)\n",
        "spot_fr = spot[spot.MapCode == \"FR\"]"
      ]
    },
    {
      "cell_type": "code",
      "execution_count": null,
      "metadata": {
        "id": "1xaVFG4xQO1G"
      },
      "outputs": [],
      "source": [
        "spot_fi = spot[spot.MapCode == \"FI\"]"
      ]
    },
    {
      "cell_type": "code",
      "execution_count": null,
      "metadata": {
        "id": "80X7225vVtzw"
      },
      "outputs": [],
      "source": [
        "spot_fi\n"
      ]
    },
    {
      "cell_type": "markdown",
      "metadata": {
        "id": "AIA7ZVGe8gNb"
      },
      "source": [
        "Over the period: \"2022-01-01 00:00:00\" to \"2022-11-01 00:00:00\" and starting from the previous dataframe, filter the following dataframe to trace only French and Finnish prices. Which of these 2 countries has the greatest volatility? If we were to invest in a storage medium (1h) between these 2 countries, which one seems more attractive, given that the round-trip yield of a battery is $\\eta = 0.85$ (i.e.: calculate the capturable revenue in €/MW)?\n",
        "\n",
        "Sur la période : \"2022-01-01 00:00:00\" à \"2022-11-01 00:00:00\" et à partir du dataframe précédent, filtrer le dataframe suivant pour ne tracer que les prix français et finlandais. Lequel de ces 2 pays a la volatilité la plus importante ? Si nous devions investir sur un moyen de stockage (1h) entre ces 2 pays, lequel semble plus attractif sachant que le rendement aller-retour d'une batterie est de $\\eta = 0.85$ (i.e : calculer les revenus capturables en €/MW) ?\n",
        "\n",
        "$Daily_{revenue} = (Price_{bought} - Price_{sold}*\\eta) * Volume$"
      ]
    },
    {
      "cell_type": "code",
      "execution_count": null,
      "metadata": {
        "id": "YxlFPCEy7DwC"
      },
      "outputs": [],
      "source": [
        "### WRITE CODE HERE\n",
        "#Compute daily revenues for each day and sum them, over the period\n",
        "\n"
      ]
    },
    {
      "cell_type": "markdown",
      "metadata": {
        "id": "8H6d5sNn-nnX"
      },
      "source": [
        "Quelles seraient les différences calculer les revenues d'une batterie de 4h ?\n",
        "S'attend-on à ce qu'une batterie de 4h soit plus rentable ou moins rentable qu'une batterie de 1h, en regardant uniquement les €/MWh (indépendamment des coûts)."
      ]
    },
    {
      "cell_type": "code",
      "execution_count": null,
      "metadata": {
        "id": "3sMA-1777wDt"
      },
      "outputs": [],
      "source": [
        "def bess_arbitrage_case(price_origin, battery_power, battery_storage, efficiency):\n",
        "    \"\"\"\n",
        "    Returns a dataframe of battery decision regarding its design parameters and DA prices.\n",
        "    LP problem to take into account storage and energy constraint on a daily basis.\n",
        "    \"\"\"\n",
        "    solver = pywraplp.Solver.CreateSolver('GLOP')\n",
        "    price = price_origin\n",
        "    price = pd.pivot_table(data = price, index = price.index.hour,\n",
        "                         columns = [price.index.year, price.index.day_of_year])\n",
        "    storage_ini = 0\n",
        "    storage_max = battery_storage\n",
        "    storage_list = [storage_ini]\n",
        "    efficiency = efficiency\n",
        "    battery_power = battery_power\n",
        "    storage = {}\n",
        "    charge = {}\n",
        "    discharge = {}\n",
        "    power = []\n",
        "    revenues = []\n",
        "\n",
        "    for day in range(price.shape[1]):\n",
        "        #print(day, \" / \",price.shape[1])\n",
        "        price_temp = price.iloc[:,day]\n",
        "        objective = solver.Objective()\n",
        "        cycle_constraint_d = solver.RowConstraint(0, storage_max,\"Cycle_constraint_1\")\n",
        "        cycle_constraint_c = solver.RowConstraint(0, storage_max,\"Cycle_constraint_2\")\n",
        "\n",
        "        #constraints\n",
        "        for h in range(24):\n",
        "            charge[h] = solver.IntVar(0,battery_power,f\"charge_hour_{h}\")\n",
        "            discharge[h] = solver.IntVar(0,battery_power,f\"discharge_hour_{h}\")\n",
        "            storage[h] = solver.RowConstraint(-storage_ini, storage_max-storage_ini, f\"storage_hour_{h}\")\n",
        "            cycle_constraint_c.SetCoefficient(charge[h], 1)\n",
        "            cycle_constraint_d.SetCoefficient(discharge[h], 1)\n",
        "            for j in range(h+1):\n",
        "                storage[h].SetCoefficient(charge[j], 1)\n",
        "                storage[h].SetCoefficient(discharge[j], -1/efficiency)\n",
        "            objective.SetCoefficient(charge[h],-price_temp[h])\n",
        "            objective.SetCoefficient(discharge[h],price_temp[h])\n",
        "            objective.SetMaximization()\n",
        "\n",
        "        solver.Solve()\n",
        "        for h in range(24):\n",
        "            power.append(charge[h].solution_value() - discharge[h].solution_value())\n",
        "            storage_list.append(storage_list[-1] + charge[h].solution_value()*1 \\\n",
        "                                 - discharge[h].solution_value()/efficiency )\n",
        "            revenues.append(-(charge[h].solution_value() - discharge[h].solution_value())*price_temp[h])\n",
        "\n",
        "    df = pd.DataFrame({\"storage\" : storage_list[:-1], \"power\" : power, \"revenues\" : revenues,\n",
        "                       \"price\" : price_origin.Price}, index = price_origin.index)\n",
        "\n",
        "    return df"
      ]
    },
    {
      "cell_type": "markdown",
      "metadata": {
        "id": "T7Ad_gmWB1In"
      },
      "source": [
        "Use the above function to calculate the revenue for a 4-hour battery in each country. The function uses a dataframe as input, so be sure to enter a dataframe.\n",
        "\n",
        "Utiliser la fonction ci-dessus pour calculer les revenues d'une batterie de 4h, dans chaque pays. La fonction utilise un dataframe en entrée, veillez à bien y entrer un dataframe."
      ]
    },
    {
      "cell_type": "code",
      "execution_count": null,
      "metadata": {
        "id": "PQTDFG_--mD2"
      },
      "outputs": [],
      "source": [
        "### FILL code\n",
        "prices = spot_fr[\"Price\"].to_frame()\n",
        "bess_arbitrage_case(prices, 1, 4, 0.85)"
      ]
    },
    {
      "cell_type": "markdown",
      "metadata": {
        "id": "pl2l16aAFOJh"
      },
      "source": [
        "# Bonus exercise\n",
        "Collect national wind power data for Finland, using the collect_data_from_entsoe_stfp function. What can you say about the evolution of wind power plant installation over the last 5 years in Finland?\n",
        "\n",
        "Collecter les données nationales éoliennes en Finlande, à partir de la fonction collect_data_from_entsoe_stfp. Que pouvez-vous dire de l'évolution de l'installation de centrales éoliennes sur ces 5 dernières années en Finlande ?"
      ]
    },
    {
      "cell_type": "code",
      "execution_count": null,
      "metadata": {
        "id": "QdTKxlP3GVU5"
      },
      "outputs": [],
      "source": [
        "country_code = {'FI':'10YFI-1--------U'}\n",
        "token = userdata.get('token_entsoe')\n",
        "\n",
        "def get_actual_generation_per_production_type(start,end,area,production_type):\n",
        "    \"\"\"\n",
        "    Request via ENTSOE API and return a dataframe\n",
        "    \"\"\"\n",
        "    start = pd.to_datetime(start)\n",
        "    end = pd.to_datetime(end)\n",
        "    start = start.tz_localize('CET')\n",
        "    start = start.tz_convert('UTC')\n",
        "\n",
        "    end = end.tz_localize('CET')\n",
        "    end = end.tz_convert('UTC')\n",
        "\n",
        "    if (end - start).days > 300 :\n",
        "        df = pd.DataFrame()\n",
        "        for period in range((end - start).days // 300 + 1):\n",
        "\n",
        "            starttime = (start+pd.to_timedelta(str(period*300)+\"day\")).strftime(\"%Y%m%d%H%M\")\n",
        "            if (start+pd.to_timedelta(str((2+1)*300)+\"day\")).tz_localize(None) < datetime.today() :\n",
        "                endtime = (start+pd.to_timedelta(str((period+1)*300)+\"day\")).strftime(\"%Y%m%d%H%M\")\n",
        "            else :\n",
        "                endtime = endtime.strftime(\"%Y%m%d%H%M\")\n",
        "\n",
        "            url = \"https://web-api.tp.entsoe.eu/api?documentType=A75&processType=A16&psrType=\" + \\\n",
        "                    production_type + \"&in_Domain=\" + country_code[area] + \"&periodStart=\" + \\\n",
        "                    starttime + '&periodEnd=' + endtime + \"&securityToken=\"+ token\n",
        "            payload = {}\n",
        "            headers = {}\n",
        "\n",
        "            response = requests.request(\"GET\", url, headers=headers, data=payload, verify = False)\n",
        "            soup = BeautifulSoup(response.text)\n",
        "\n",
        "            position = []\n",
        "            price = []\n",
        "            time_UTC = []\n",
        "\n",
        "            #the tilme step is 15 min for Belgium and Germany, and 1 hour for other countries\n",
        "            if area in ['DE','DE-LU','DE-AT-LU']:\n",
        "                step = 15\n",
        "            else :\n",
        "                step = 60\n",
        "\n",
        "            for node in soup.find_all('timeseries'):\n",
        "                #for each eligible timeseries, retrieve the start time from the xml tag\n",
        "                time_init = node.find('start').text\n",
        "                #convert the start time tag to a datetime object\n",
        "                time_init_object = datetime.strptime(time_init,\"%Y-%m-%dT%H:%MZ\")\n",
        "\n",
        "                for point in node.find_all('point'):\n",
        "                    position.append(int(point.find('position').text))\n",
        "                    price.append(float(point.find('quantity').text))\n",
        "                    deltaminutes = (position[-1] - 1)*step\n",
        "                    time_UTC.append(time_init_object + timedelta(minutes = deltaminutes))\n",
        "\n",
        "            df_temp = pd.DataFrame(data = {'Start':time_UTC, 'Power':price})\n",
        "            df_temp = df_temp[(df_temp.Start >= start.tz_localize(None) ) & (df_temp.Start < end.tz_localize(None))]\n",
        "            df_temp.set_index('Start',inplace=True)\n",
        "\n",
        "            #Clearing all duplicates because sometimes there are (Entsoe API is mad :)) Very funny Cesar\n",
        "            df_temp = df_temp[~df_temp.index.duplicated(keep='first')]\n",
        "            df = pd.concat([df,df_temp])\n",
        "    else :\n",
        "        starttime = start.strftime(\"%Y%m%d%H%M\")\n",
        "        endtime = end.strftime(\"%Y%m%d%H%M\")\n",
        "\n",
        "        url = \"https://web-api.tp.entsoe.eu/api?documentType=A75&processType=A16&psrType=\" + \\\n",
        "                production_type + \"&in_Domain=\" + country_code[area] + \"&periodStart=\" + \\\n",
        "                starttime + '&periodEnd=' + endtime + \"&securityToken=\"+ token\n",
        "        payload = {}\n",
        "        headers = {}\n",
        "\n",
        "        response = requests.request(\"GET\", url, headers=headers, data=payload, verify = False)\n",
        "        soup = BeautifulSoup(response.text)\n",
        "\n",
        "        position = []\n",
        "        price = []\n",
        "        time_UTC = []\n",
        "\n",
        "        #the tilme step is 15 min for Belgium and Germany, and 1 hour for other countries\n",
        "        if area in ['DE','DE-LU','DE-AT-LU']:\n",
        "            step = 15\n",
        "        else :\n",
        "            step = 60\n",
        "\n",
        "        for node in soup.find_all('timeseries'):\n",
        "            #for each eligible timeseries, retrieve the start time from the xml tag\n",
        "            time_init = node.find('start').text\n",
        "            #convert the start time tag to a datetime object\n",
        "            time_init_object = datetime.strptime(time_init,\"%Y-%m-%dT%H:%MZ\")\n",
        "\n",
        "            for point in node.find_all('point'):\n",
        "                position.append(int(point.find('position').text))\n",
        "                price.append(float(point.find('quantity').text))\n",
        "                deltaminutes = (position[-1] - 1)*step\n",
        "                time_UTC.append(time_init_object + timedelta(minutes = deltaminutes))\n",
        "\n",
        "        df = pd.DataFrame(data = {'Start':time_UTC, 'Power':price})\n",
        "        df = df[(df.Start >= start.tz_localize(None) ) & (df.Start < end.tz_localize(None))]\n",
        "        df.set_index('Start',inplace=True)\n",
        "\n",
        "        #Clearing all duplicates because sometimes there are (Entsoe API is mad :)) Very funny Cesar\n",
        "        df = df[~df.index.duplicated(keep='first')]\n",
        "\n",
        "    return df\n"
      ]
    },
    {
      "cell_type": "code",
      "execution_count": null,
      "metadata": {
        "id": "j3DKW9vhE63P"
      },
      "outputs": [],
      "source": [
        "area = \"FI\"\n",
        "warnings.filterwarnings(\"ignore\")\n",
        "start = \"20170101\"\n",
        "end = \"20230601\"\n",
        "psrType = \"\" #To Fill\n",
        "\n",
        "prod = get_actual_generation_per_production_type(start, end, \"FI\", psrType)"
      ]
    },
    {
      "cell_type": "code",
      "execution_count": null,
      "metadata": {
        "id": "LEtB6OTJH7Nt"
      },
      "outputs": [],
      "source": []
    }
  ],
  "metadata": {
    "colab": {
      "collapsed_sections": [
        "d9jHElUgxIjj",
        "pl2l16aAFOJh"
      ],
      "provenance": [],
      "include_colab_link": true
    },
    "kernelspec": {
      "display_name": "Python 3",
      "name": "python3"
    },
    "language_info": {
      "name": "python"
    }
  },
  "nbformat": 4,
  "nbformat_minor": 0
}